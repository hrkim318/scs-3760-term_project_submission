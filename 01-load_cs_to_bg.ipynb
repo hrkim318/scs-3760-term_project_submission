{
 "cells": [
  {
   "cell_type": "markdown",
   "id": "e23c6934",
   "metadata": {},
   "source": [
    "## Load salesforce_cotnact from Cloud Storage to BigQuery"
   ]
  },
  {
   "cell_type": "code",
   "execution_count": 1,
   "id": "297c890a",
   "metadata": {},
   "outputs": [
    {
     "name": "stdout",
     "output_type": "stream",
     "text": [
      "Loaded dataframe to /projects/scs-3760-hkim/datasets/term_project/tables/salesforce_contact\n",
      "Loaded dataframe to /projects/scs-3760-hkim/datasets/term_project/tables/ms_dynamics365\n"
     ]
    }
   ],
   "source": [
    "# =========================\n",
    "# 1. Salesforce Contact\n",
    "# ========================\n",
    "# download from cloudstorage\n",
    "from google.cloud import storage\n",
    "from io import StringIO\n",
    "import pandas as pd\n",
    "\n",
    "client = storage.Client()\n",
    "bucket = client.get_bucket('scs-3760--term-project')\n",
    "\n",
    "# download csv from cloudstorage\n",
    "blob = bucket.get_blob(f\"salesforce_contact.csv\")\n",
    "bt = blob.download_as_string()\n",
    "s = str(bt, \"utf-8\")\n",
    "s = StringIO(s)\n",
    "df_cs = pd.read_csv(s)\n",
    "\n",
    "# load to bigquery\n",
    "from google.cloud import bigquery\n",
    "client = bigquery.Client(location=\"US\")\n",
    "\n",
    "# drop table salesforce_contact\n",
    "sql = \"drop table if exists `scs-3760-hkim.term_project.salesforce_contact`\"\n",
    "client.query(sql, location=\"US\")\n",
    "\n",
    "bg_dataset = client.dataset('term_project')\n",
    "table_ref = bg_dataset.table(\"salesforce_contact\")\n",
    "job = client.load_table_from_dataframe(df_cs, table_ref, location=\"US\")\n",
    "\n",
    "job.result()  # Waits for table load to complete.\n",
    "print(\"Loaded dataframe to {}\".format(table_ref.path))\n",
    "\n",
    "# =========================\n",
    "# 2. MS Dynamics365\n",
    "# ========================\n",
    "# download from cloudstorage\n",
    "from google.cloud import storage\n",
    "from io import StringIO\n",
    "import pandas as pd\n",
    "\n",
    "client = storage.Client()\n",
    "bucket = client.get_bucket('scs-3760--term-project')\n",
    "\n",
    "# download csv from cloudstorage\n",
    "blob = bucket.get_blob(f\"ms_dynamics365.csv\")\n",
    "bt = blob.download_as_string()\n",
    "s = str(bt, \"utf-8\")\n",
    "s = StringIO(s)\n",
    "df_cs = pd.read_csv(s)\n",
    "\n",
    "# load to bigquery\n",
    "from google.cloud import bigquery\n",
    "client = bigquery.Client(location=\"US\")\n",
    "\n",
    "# drop table salesforce_contact\n",
    "sql = \"drop table if exists `scs-3760-hkim.term_project.ms_dynamics365`\"\n",
    "client.query(sql, location=\"US\")\n",
    "\n",
    "bg_dataset = client.dataset('term_project')\n",
    "table_ref = bg_dataset.table(\"ms_dynamics365\")\n",
    "job = client.load_table_from_dataframe(df_cs, table_ref, location=\"US\")\n",
    "\n",
    "job.result()  # Waits for table load to complete.\n",
    "print(\"Loaded dataframe to {}\".format(table_ref.path))"
   ]
  }
 ],
 "metadata": {
  "environment": {
   "name": "common-cpu.m65",
   "type": "gcloud",
   "uri": "gcr.io/deeplearning-platform-release/base-cpu:m65"
  },
  "kernelspec": {
   "display_name": "Python [conda env:root] *",
   "language": "python",
   "name": "conda-root-py"
  },
  "language_info": {
   "codemirror_mode": {
    "name": "ipython",
    "version": 3
   },
   "file_extension": ".py",
   "mimetype": "text/x-python",
   "name": "python",
   "nbconvert_exporter": "python",
   "pygments_lexer": "ipython3",
   "version": "3.7.10"
  }
 },
 "nbformat": 4,
 "nbformat_minor": 5
}
